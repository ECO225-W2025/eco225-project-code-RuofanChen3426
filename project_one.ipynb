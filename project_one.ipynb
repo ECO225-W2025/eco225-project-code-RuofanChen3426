{
 "cells": [
  {
   "cell_type": "markdown",
   "id": "6835239d-67ee-47a1-9588-1fbe4789ab5d",
   "metadata": {},
   "source": [
    "<center> <h1> <b> Investigating the Impact of Income-Related Factors on COVID-19 Outcomes Across Countries and the Moderating Effect of Prevention Policy on This Relationship </b> </h1> </center>"
   ]
  },
  {
   "cell_type": "markdown",
   "id": "324acd79-a85e-4eb6-9221-4ce82ff10b75",
   "metadata": {},
   "source": [
    "<h2> Introduction </h2>"
   ]
  },
  {
   "cell_type": "markdown",
   "id": "c20cafbe-98fc-421c-8d64-ec679929e227",
   "metadata": {},
   "source": [
    "COVID-19 has a huge impact around the world, and countries with weaker economies are always more fragile to the spread of such outbreak. This paper examines the relationship between income-related factors, such as average wages, informal employment rate, and the Gini coefficient, and the number of COVID-19 diagnoses in each country to demonstrate their contribution to the spread of virus. Moreover, this research also examines the role of government efforts to combat the epidemic (including school closures, mask policies, and home office policies ect.) in mediating this relationship to test the effectiveness of government interventions. "
   ]
  },
  {
   "cell_type": "markdown",
   "id": "010db6b1-1843-44b0-8ea9-10e997629f5f",
   "metadata": {},
   "source": [
    "<h2> Data Cleaning and Loading </h2>"
   ]
  },
  {
   "cell_type": "code",
   "execution_count": 66,
   "id": "7e88c178-0565-486f-ae67-4f48ebaf61fa",
   "metadata": {},
   "outputs": [
    {
     "name": "stdout",
     "output_type": "stream",
     "text": [
      "             Country Name  2020-02-01  2020-03-01  2020-04-01  2020-05-01  \\\n",
      "0             Afghanistan           0           5         192        2171   \n",
      "1                 Albania           0           0         259         782   \n",
      "2                 Algeria           0           1         847        4154   \n",
      "3                 Andorra           0           0         390         745   \n",
      "4                  Angola           0           0           8          30   \n",
      "..                    ...         ...         ...         ...         ...   \n",
      "284    West Bank and Gaza           0           0         134         353   \n",
      "285  Winter Olympics 2022           0           0           0           0   \n",
      "286                 Yemen           0           0           0           7   \n",
      "287                Zambia           0           0          36         109   \n",
      "288              Zimbabwe           0           0           8          40   \n",
      "\n",
      "     2020-06-01  2020-07-01  2020-08-01  2020-09-01  2020-10-01  ...  \\\n",
      "0         15836       31848       36796       38282       39371  ...   \n",
      "1          1143        2580        5396        9606       13806  ...   \n",
      "2          9513       14272       30950       44833       51690  ...   \n",
      "3           765         855         925        1184        2050  ...   \n",
      "4            86         291        1164        2729        5114  ...   \n",
      "..          ...         ...         ...         ...         ...  ...   \n",
      "284         449        2758       12160       23281       40322  ...   \n",
      "285           0           0           0           0           0  ...   \n",
      "286         354        1190        1730        1962        2039  ...   \n",
      "287        1089        1632        6228       12381       14802  ...   \n",
      "288         203         605        3659        6559        7850  ...   \n",
      "\n",
      "     2022-03-01  2022-04-01  2022-05-01  2022-06-01  2022-07-01  2022-08-01  \\\n",
      "0        173879      177782      178899      180419      182594      185930   \n",
      "1        271702      273759      275167      276221      281470      312375   \n",
      "2        265010      265679      265782      265887      266105      267546   \n",
      "3         38165       40024       41349       42894       44177       45508   \n",
      "4         98746       99194       99287       99761      101320      102301   \n",
      "..          ...         ...         ...         ...         ...         ...   \n",
      "284      647203      655750      657060      657705      659853      682096   \n",
      "285         524         535         535         535         535         535   \n",
      "286       11771       11806       11818       11822       11824       11877   \n",
      "287      312970      316941      319733      321915      325857      329483   \n",
      "288      236871      246414      247911      252874      255586      256382   \n",
      "\n",
      "     2022-09-01  2022-10-01  2022-11-01  2022-12-01  \n",
      "0        193520      199310      203167      206073  \n",
      "1        329615      332263      332969      333360  \n",
      "2        270359      270676      270839      271096  \n",
      "3         46027       46227       46535       47219  \n",
      "4        102636      103131      103131      104676  \n",
      "..          ...         ...         ...         ...  \n",
      "284      702332      702768      703036      703036  \n",
      "285         535         535         535         535  \n",
      "286       11926       11935       11939       11945  \n",
      "287      332822      333549      333681      333746  \n",
      "288      256738      257465      257893      259164  \n",
      "\n",
      "[289 rows x 36 columns]\n"
     ]
    },
    {
     "name": "stderr",
     "output_type": "stream",
     "text": [
      "C:\\Users\\chenr\\AppData\\Local\\Temp\\ipykernel_20676\\1066689124.py:15: SettingWithCopyWarning: \n",
      "A value is trying to be set on a copy of a slice from a DataFrame\n",
      "\n",
      "See the caveats in the documentation: https://pandas.pydata.org/pandas-docs/stable/user_guide/indexing.html#returning-a-view-versus-a-copy\n",
      "  confirmed_data_filtered.rename(columns={'Country/Region': 'Country Name'}, inplace=True)\n"
     ]
    }
   ],
   "source": [
    "#Load the first dataset, including countries and their accumulated COVID-19 confirmed case\n",
    "import pandas as pd\n",
    "file_path = r\"C:\\Users\\chenr\\OneDrive\\ECO225Project\\Data\\variables\\time_series_covid19_confirmed_global.csv\"\n",
    "confirmed_data = pd.read_csv(file_path)\n",
    "confirmed_data = confirmed_data.drop(columns=['Province/State', 'Long', 'Lat'], errors='ignore')\n",
    "confirmed_data.columns = [col if col == \"Country/Region\" else pd.to_datetime(col, errors='coerce').date() for col in confirmed_data.columns]\n",
    "date_columns = confirmed_data.columns[1:]  \n",
    "first_of_each_month = [col for col in date_columns if col.day == 1]\n",
    "last_date = pd.to_datetime(\"12/1/2022\").date()\n",
    "first_of_each_month = [col for col in first_of_each_month if col <= last_date]\n",
    "if last_date not in first_of_each_month:\n",
    "    first_of_each_month.append(last_date)\n",
    "columns_to_keep = [\"Country/Region\"] + first_of_each_month\n",
    "confirmed_data_filtered = confirmed_data[columns_to_keep]\n",
    "confirmed_data_filtered.rename(columns={'Country/Region': 'Country Name'}, inplace=True)\n",
    "print(confirmed_data_filtered)"
   ]
  },
  {
   "cell_type": "code",
   "execution_count": 67,
   "id": "d4abf68c-53af-4bf1-b50d-4ab935fa0596",
   "metadata": {},
   "outputs": [
    {
     "name": "stdout",
     "output_type": "stream",
     "text": [
      "time Country Name    2020    2021    2022\n",
      "0     Afghanistan  86.395  86.395  86.395\n",
      "1          Angola  90.254  90.254  92.189\n",
      "2       Argentina  46.981  49.142  51.196\n",
      "3       Australia  25.476  26.105  26.105\n",
      "4         Austria   1.978   1.548   1.381\n",
      "..            ...     ...     ...     ...\n",
      "108        Uganda  95.197  95.197  95.197\n",
      "109       Uruguay  21.615  21.444  22.137\n",
      "111      Viet Nam  69.238  70.391  68.567\n",
      "113        Zambia  84.763  85.990  85.560\n",
      "114      Zimbabwe  88.439  88.439  88.306\n",
      "\n",
      "[98 rows x 4 columns]\n"
     ]
    },
    {
     "name": "stderr",
     "output_type": "stream",
     "text": [
      "C:\\Users\\chenr\\AppData\\Local\\Temp\\ipykernel_20676\\3647020162.py:11: FutureWarning: Downcasting object dtype arrays on .fillna, .ffill, .bfill is deprecated and will change in a future version. Call result.infer_objects(copy=False) instead. To opt-in to the future behavior, set `pd.set_option('future.no_silent_downcasting', True)`\n",
      "  pivot_Inefficient_Employment = pivot_Inefficient_Employment.bfill(axis=1).ffill(axis=1)\n"
     ]
    }
   ],
   "source": [
    "#Load the 2nd dataset, including countries and their informal employment rate\n",
    "file_path = r\"C:\\Users\\chenr\\OneDrive\\ECO225Project\\Data\\variables\\SDG_0831_SEX_ECO_RT_A-20250201T1718.csv\"\n",
    "Inefficient_Employment = pd.read_csv(file_path)\n",
    "columns_to_keep = ['ref_area.label', 'time', 'obs_value'] \n",
    "Inefficient_Employment = Inefficient_Employment[columns_to_keep]\n",
    "pivot_Inefficient_Employment = Inefficient_Employment.pivot(index='ref_area.label', columns='time', values='obs_value')\n",
    "pivot_Inefficient_Employment.reset_index(inplace=True)\n",
    "pivot_Inefficient_Employment = pivot_Inefficient_Employment.drop(columns=[2019])\n",
    "pivot_Inefficient_Employment.columns = pivot_Inefficient_Employment.columns.astype(str)\n",
    "pivot_Inefficient_Employment = pivot_Inefficient_Employment.dropna(how='all', subset=['2020', '2021', '2022'])\n",
    "pivot_Inefficient_Employment = pivot_Inefficient_Employment.bfill(axis=1).ffill(axis=1)\n",
    "pivot_Inefficient_Employment.rename(columns={'ref_area.label': 'Country Name'}, inplace=True)\n",
    "print(pivot_Inefficient_Employment)"
   ]
  },
  {
   "cell_type": "code",
   "execution_count": 69,
   "id": "05a47b81-d315-47b4-b1e8-095b97cd9d27",
   "metadata": {},
   "outputs": [
    {
     "name": "stdout",
     "output_type": "stream",
     "text": [
      "      Country Name  2020-02-01  2020-03-01  2020-04-01  2020-05-01  \\\n",
      "21           Aruba        0.00        0.00       85.19       85.19   \n",
      "43     Afghanistan        0.00       27.78       67.59       84.26   \n",
      "65          Angola        0.00        8.33       90.74       78.70   \n",
      "87         Albania        0.00        8.33       84.26       89.81   \n",
      "109        Andorra        0.00        0.00       53.70       52.78   \n",
      "...            ...         ...         ...         ...         ...   \n",
      "4005        Kosovo        0.00        0.00       92.59       92.59   \n",
      "4027   Yemen, Rep.        0.00        0.00       53.70       64.81   \n",
      "4049  South Africa        2.78        2.78       87.96       84.26   \n",
      "4071        Zambia        0.00       16.67       47.22       65.28   \n",
      "4093      Zimbabwe        8.33        8.33       87.96       87.96   \n",
      "\n",
      "      2020-06-01  2020-07-01  2020-08-01  2020-09-01  2020-10-01  ...  \\\n",
      "21         57.41       47.22       47.22       73.15       58.33  ...   \n",
      "43         84.26       78.70       78.70       28.70       28.70  ...   \n",
      "65         77.78       75.93       79.17       81.02       75.00  ...   \n",
      "87         71.30       68.52       62.96       54.63       54.63  ...   \n",
      "109        42.59       31.48       41.67       41.67       50.00  ...   \n",
      "...          ...         ...         ...         ...         ...  ...   \n",
      "4005       73.15       59.26       76.85       65.74       52.78  ...   \n",
      "4027       66.67       63.89       31.48       31.48       33.33  ...   \n",
      "4049       80.56       76.85       78.70       72.22       50.93  ...   \n",
      "4071       39.81       50.93       50.93       42.59       41.67  ...   \n",
      "4093       87.96       73.15       80.56       80.56       71.30  ...   \n",
      "\n",
      "      2022-03-01  2022-04-01  2022-05-01  2022-06-01  2022-07-01  2022-08-01  \\\n",
      "21         28.70       25.93       25.93       25.93       25.93       25.93   \n",
      "43         19.44       16.67       16.67       11.11       11.11       11.11   \n",
      "65         64.32       42.37       42.30       43.25       28.33       28.27   \n",
      "87         53.70       35.19       18.52       11.11       11.11       11.11   \n",
      "109        21.29        8.33        8.33        8.33        5.56        5.56   \n",
      "...          ...         ...         ...         ...         ...         ...   \n",
      "4005       61.39       45.84       41.32       27.63       25.06       25.05   \n",
      "4027       26.85       35.19       28.70       25.93       11.11        5.56   \n",
      "4049       40.74       34.08       36.14       35.97       11.11       11.11   \n",
      "4071       13.89       13.89       13.89        8.33        2.78        2.78   \n",
      "4093       53.28       51.05       51.02       47.12       47.10       52.64   \n",
      "\n",
      "      2022-09-01  2022-10-01  2022-11-01  2022-12-01  \n",
      "21         25.93       25.93       25.93       25.93  \n",
      "43         11.11        5.56        5.56        2.78  \n",
      "65         28.21       22.65       22.65       17.10  \n",
      "87         11.11       11.11       11.11       11.11  \n",
      "109         5.56        5.56        5.56       11.11  \n",
      "...          ...         ...         ...         ...  \n",
      "4005       25.04       25.04       25.04       25.04  \n",
      "4027        5.56        5.56        5.56        5.56  \n",
      "4049       11.11       11.11       11.11       11.11  \n",
      "4071        2.78        2.78        2.78        2.78  \n",
      "4093       52.63       52.62       53.70       53.70  \n",
      "\n",
      "[186 rows x 36 columns]\n"
     ]
    },
    {
     "name": "stderr",
     "output_type": "stream",
     "text": [
      "C:\\Users\\chenr\\AppData\\Local\\Temp\\ipykernel_20676\\1229748167.py:10: SettingWithCopyWarning: \n",
      "A value is trying to be set on a copy of a slice from a DataFrame\n",
      "\n",
      "See the caveats in the documentation: https://pandas.pydata.org/pandas-docs/stable/user_guide/indexing.html#returning-a-view-versus-a-copy\n",
      "  stringent_filtered.rename(columns={'Economy Name': 'Country Name'}, inplace=True)\n"
     ]
    }
   ],
   "source": [
    "#Load the 3rd dataset, including the stringent index\n",
    "file_path = r\"C:\\Users\\chenr\\OneDrive\\ECO225Project\\Data\\variables\\OXFORD-CGRT.xlsx\"\n",
    "stringent = pd.read_excel(file_path)\n",
    "stringent_id = stringent[stringent[\"Indicator ID\"] == \"OXFORD.CGRT.stringency_index\"]\n",
    "stringent = stringent_id.drop(columns=['Economy ISO3', 'Indicator ID', 'Indicator’， ‘Attribute 1', 'Attribute 2', 'Attribute 3', 'Partner'], errors='ignore')\n",
    "stringent.columns = [col if col == \"Economy Name\" else pd.to_datetime(col, errors='coerce').date() for col in stringent.columns]\n",
    "date_columns = stringent.columns[1:]  \n",
    "columns_to_keep = [\"Economy Name\"] + first_of_each_month\n",
    "stringent_filtered = stringent[columns_to_keep]\n",
    "stringent_filtered.rename(columns={'Economy Name': 'Country Name'}, inplace=True)\n",
    "print(stringent_filtered)"
   ]
  },
  {
   "cell_type": "code",
   "execution_count": 56,
   "id": "162ce051-a6d9-4988-9b42-5d770b111751",
   "metadata": {},
   "outputs": [
    {
     "name": "stdout",
     "output_type": "stream",
     "text": [
      "                   Country Name      2020      2021      2022\n",
      "2                   Afghanistan  11.71000   5.67900   5.67900\n",
      "3    Africa Western and Central   3.16432   3.16432   3.16432\n",
      "4                        Angola  15.79900  15.79900  14.12400\n",
      "5                       Albania  11.63900  11.47400  10.78500\n",
      "8          United Arab Emirates   4.29400   3.10500   2.87300\n",
      "..                          ...       ...       ...       ...\n",
      "260                       Samoa   5.04800   5.04800   5.04800\n",
      "261                      Kosovo  25.45900  20.39200  12.09300\n",
      "263                South Africa  29.21700  34.00700  33.26800\n",
      "264                      Zambia   6.03200   5.19700   5.99300\n",
      "265                    Zimbabwe   9.54000   9.54000  10.08700\n",
      "\n",
      "[186 rows x 4 columns]\n"
     ]
    },
    {
     "name": "stderr",
     "output_type": "stream",
     "text": [
      "C:\\Users\\chenr\\AppData\\Local\\Temp\\ipykernel_20676\\3353012823.py:7: FutureWarning: Downcasting object dtype arrays on .fillna, .ffill, .bfill is deprecated and will change in a future version. Call result.infer_objects(copy=False) instead. To opt-in to the future behavior, set `pd.set_option('future.no_silent_downcasting', True)`\n",
      "  unemployment_filtered_cleaned_filled = unemployment_filtered_cleaned.bfill(axis=1).ffill(axis=1)\n"
     ]
    }
   ],
   "source": [
    "#Load the 4th dataset, including the unemployment rate of each country \n",
    "file_path = r\"C:\\Users\\chenr\\OneDrive\\ECO225Project\\Data\\variables\\API_SL.UEM.TOTL.NE.ZS_DS2_en_csv_v2_3129.csv\"\n",
    "unemployment = pd.read_csv(file_path, skiprows=4)\n",
    "unemployment_keep = ['Country Name', '2020', '2021', '2022'] \n",
    "unemployment_filtered = unemployment[unemployment_keep]\n",
    "unemployment_filtered_cleaned = unemployment_filtered[unemployment_filtered.iloc[:, 1:].notna().any(axis=1)]\n",
    "unemployment_filtered_cleaned_filled = unemployment_filtered_cleaned.bfill(axis=1).ffill(axis=1)\n",
    "print(unemployment_filtered_cleaned_filled)"
   ]
  },
  {
   "cell_type": "code",
   "execution_count": 70,
   "id": "4a23dd4d-3d12-4305-94da-38d3c2fd6828",
   "metadata": {},
   "outputs": [
    {
     "name": "stdout",
     "output_type": "stream",
     "text": [
      "time Country Name     2020     2021     2022\n",
      "0     Afghanistan  171.874  171.874  171.874\n",
      "1         Albania  493.898  552.463  547.568\n",
      "2          Angola  143.606  143.606  143.606\n",
      "3       Argentina  514.353  544.819  635.912\n",
      "4         Armenia  257.120  259.164  259.164\n",
      "..            ...      ...      ...      ...\n",
      "125       Uruguay  879.980  879.980  879.980\n",
      "126    Uzbekistan  265.886  303.014  351.322\n",
      "127      Viet Nam  296.184  291.293  320.607\n",
      "128        Zambia  163.247  160.128  203.415\n",
      "129      Zimbabwe  157.365  157.365   80.864\n",
      "\n",
      "[116 rows x 4 columns]\n"
     ]
    },
    {
     "name": "stderr",
     "output_type": "stream",
     "text": [
      "C:\\Users\\chenr\\AppData\\Local\\Temp\\ipykernel_20676\\3266333302.py:12: FutureWarning: Downcasting object dtype arrays on .fillna, .ffill, .bfill is deprecated and will change in a future version. Call result.infer_objects(copy=False) instead. To opt-in to the future behavior, set `pd.set_option('future.no_silent_downcasting', True)`\n",
      "  pivot_avg_wage_filtered = pivot_avg_wage_filtered.bfill(axis=1).ffill(axis=1)\n"
     ]
    }
   ],
   "source": [
    "#Load the 5th dataset, including the average wage of each country\n",
    "file_path = r\"C:\\Users\\chenr\\OneDrive\\ECO225Project\\Data\\variables\\EAR_4MTH_SEX_CUR_NB_A-20250202T1501.csv\"\n",
    "avg_wage = pd.read_csv(file_path)\n",
    "avg_wage_cur = avg_wage[avg_wage[\"classif1.label\"] == \"Currency: U.S. dollars\"]\n",
    "avg_wage_keep = ['ref_area.label', 'time', 'obs_value'] \n",
    "avg_wage_filtered = avg_wage_cur[avg_wage_keep]\n",
    "pivot_avg_wage_filtered = avg_wage_filtered.pivot(index='ref_area.label', columns='time', values='obs_value')\n",
    "pivot_avg_wage_filtered.reset_index(inplace=True)\n",
    "pivot_avg_wage_filtered = pivot_avg_wage_filtered.drop(columns=[2019])\n",
    "pivot_avg_wage_filtered.columns = pivot_avg_wage_filtered.columns.astype(str)\n",
    "pivot_avg_wage_filtered = pivot_avg_wage_filtered.dropna(how='all', subset=['2020', '2021', '2022'])\n",
    "pivot_avg_wage_filtered = pivot_avg_wage_filtered.bfill(axis=1).ffill(axis=1)\n",
    "pivot_avg_wage_filtered.rename(columns={'ref_area.label': 'Country Name'}, inplace=True)\n",
    "print(pivot_avg_wage_filtered)"
   ]
  },
  {
   "cell_type": "code",
   "execution_count": 55,
   "id": "0a221f15-fbfa-4e92-8990-2fbc0ce2231b",
   "metadata": {},
   "outputs": [
    {
     "name": "stdout",
     "output_type": "stream",
     "text": [
      "      Country Name  2020  2021  2022\n",
      "5          Albania  29.4  29.4  29.4\n",
      "9        Argentina  42.7  42.4  40.7\n",
      "10         Armenia  25.1  27.9  27.9\n",
      "14         Austria  29.8  30.7  30.7\n",
      "16         Burundi  37.5  37.5  37.5\n",
      "..             ...   ...   ...   ...\n",
      "250        Uruguay  40.2  40.8  40.6\n",
      "251  United States  39.7  39.7  41.3\n",
      "252     Uzbekistan  31.2  31.2  31.2\n",
      "257       Viet Nam  36.8  36.1  36.1\n",
      "264         Zambia  51.5  51.5  51.5\n",
      "\n",
      "[92 rows x 4 columns]\n"
     ]
    },
    {
     "name": "stderr",
     "output_type": "stream",
     "text": [
      "C:\\Users\\chenr\\AppData\\Local\\Temp\\ipykernel_20676\\3844149613.py:7: FutureWarning: Downcasting object dtype arrays on .fillna, .ffill, .bfill is deprecated and will change in a future version. Call result.infer_objects(copy=False) instead. To opt-in to the future behavior, set `pd.set_option('future.no_silent_downcasting', True)`\n",
      "  gini_filtered_cleaned_filled = gini_filtered_cleaned.bfill(axis=1).ffill(axis=1)\n"
     ]
    }
   ],
   "source": [
    "#Load the 6th dataset, including the gini coefficient of each country\n",
    "file_path = r\"C:\\Users\\chenr\\OneDrive\\ECO225Project\\Data\\variables\\API_SI.POV.GINI_DS2_en_csv_v2_53.csv\"\n",
    "gini = pd.read_csv(file_path, skiprows=4)\n",
    "gini_keep = ['Country Name', '2020', '2021', '2022'] \n",
    "gini_filtered = gini[gini_keep]\n",
    "gini_filtered_cleaned = gini_filtered[gini_filtered.iloc[:, 1:].notna().any(axis=1)]\n",
    "gini_filtered_cleaned_filled = gini_filtered_cleaned.bfill(axis=1).ffill(axis=1)\n",
    "print(gini_filtered_cleaned_filled)"
   ]
  },
  {
   "cell_type": "code",
   "execution_count": 58,
   "id": "800f551f-9043-4bb0-9df5-e18caa336a40",
   "metadata": {},
   "outputs": [
    {
     "name": "stdout",
     "output_type": "stream",
     "text": [
      "                    Country Name         2020         2021         2022\n",
      "0                          Aruba     108587.0     107700.0     107310.0\n",
      "1    Africa Eastern and Southern  694446100.0  713090928.0  731821393.0\n",
      "2                    Afghanistan   39068979.0   40000412.0   40578842.0\n",
      "3     Africa Western and Central  474569351.0  485920997.0  497387180.0\n",
      "4                         Angola   33451132.0   34532429.0   35635029.0\n",
      "..                           ...          ...          ...          ...\n",
      "261                       Kosovo    1790152.0    1786080.0    1768096.0\n",
      "262                  Yemen, Rep.   36134863.0   37140230.0   38222876.0\n",
      "263                 South Africa   60562381.0   61502603.0   62378410.0\n",
      "264                       Zambia   19059395.0   19603607.0   20152938.0\n",
      "265                     Zimbabwe   15526888.0   15797210.0   16069056.0\n",
      "\n",
      "[265 rows x 4 columns]\n"
     ]
    },
    {
     "name": "stderr",
     "output_type": "stream",
     "text": [
      "C:\\Users\\chenr\\AppData\\Local\\Temp\\ipykernel_20676\\719470628.py:7: FutureWarning: Downcasting object dtype arrays on .fillna, .ffill, .bfill is deprecated and will change in a future version. Call result.infer_objects(copy=False) instead. To opt-in to the future behavior, set `pd.set_option('future.no_silent_downcasting', True)`\n",
      "  population_filtered_cleaned_filled = population_filtered_cleaned.bfill(axis=1).ffill(axis=1)\n"
     ]
    }
   ],
   "source": [
    "#Load the 7th dataset, including the population of each country\n",
    "file_path = r\"C:\\Users\\chenr\\OneDrive\\ECO225Project\\Data\\variables\\API_SP.POP.TOTL_DS2_en_csv_v2_87.csv\"\n",
    "population = pd.read_csv(file_path, skiprows=4)\n",
    "population_keep = ['Country Name', '2020', '2021', '2022'] \n",
    "population_filtered = population[population_keep]\n",
    "population_filtered_cleaned = population_filtered[population_filtered.iloc[:, 1:].notna().any(axis=1)]\n",
    "population_filtered_cleaned_filled = population_filtered_cleaned.bfill(axis=1).ffill(axis=1)\n",
    "print(population_filtered_cleaned_filled)"
   ]
  },
  {
   "cell_type": "markdown",
   "id": "8850caee-df0d-41be-910d-2179b42834c5",
   "metadata": {},
   "source": [
    "<h2> Summary Statistics Tables </h2>"
   ]
  },
  {
   "cell_type": "code",
   "execution_count": 94,
   "id": "549ae235-9fb5-4482-81ef-afa6c734239e",
   "metadata": {},
   "outputs": [
    {
     "name": "stdout",
     "output_type": "stream",
     "text": [
      "    Country Name  year  Average Monthly wage  Inefficient Employment  \\\n",
      "0      Argentina  2020               514.353                  46.981   \n",
      "1        Austria  2020              4753.406                   1.978   \n",
      "2        Belgium  2020              5760.266                   1.262   \n",
      "3          Benin  2020               135.693                  96.347   \n",
      "4         Brazil  2020               477.027                  36.730   \n",
      "..           ...   ...                   ...                     ...   \n",
      "154  Switzerland  2022              6463.190                   0.883   \n",
      "155         Togo  2022               137.662                  92.343   \n",
      "156      Uruguay  2022               879.980                  22.137   \n",
      "157     Viet Nam  2022               320.607                  68.567   \n",
      "158       Zambia  2022               203.415                  85.560   \n",
      "\n",
      "     Unemployment Rate  Gini Index   Population  \n",
      "0               11.461        42.7   45191965.0  \n",
      "1                5.201        29.8    8916864.0  \n",
      "2                5.545        26.0   11538604.0  \n",
      "3                1.685        34.4   13070169.0  \n",
      "4               13.697        48.9  208660842.0  \n",
      "..                 ...         ...          ...  \n",
      "154              4.122        33.7    8777088.0  \n",
      "155              1.965        37.9    9089738.0  \n",
      "156              7.877        40.6    3390913.0  \n",
      "157              1.523        36.1   99680655.0  \n",
      "158              5.993        51.5   20152938.0  \n",
      "\n",
      "[159 rows x 7 columns]\n"
     ]
    }
   ],
   "source": [
    "Inefficient_melted = pd.melt(pivot_Inefficient_Employment, id_vars=['Country Name'], var_name='year', value_name='Inefficient Employment')\n",
    "Unemployment_melted = pd.melt(unemployment_filtered_cleaned_filled, id_vars=['Country Name'], var_name='year', value_name='Unemployment Rate')\n",
    "Avg_wage_melted = pd.melt(pivot_avg_wage_filtered, id_vars=['Country Name'], var_name='year', value_name='Average Monthly wage')\n",
    "Gini_melted = pd.melt(gini_filtered_cleaned_filled, id_vars=['Country Name'], var_name='year', value_name='Gini Index')\n",
    "Population_melted = pd.melt(population_filtered_cleaned_filled, id_vars=['Country Name'], var_name='year', value_name='Population')\n",
    "\n",
    "tables = [Avg_wage_melted, Inefficient_melted, Unemployment_melted, Gini_melted, Population_melted]\n",
    "from functools import reduce\n",
    "year_table = reduce(lambda left, right: left.merge(right, on=['Country Name', 'year'], how='inner'), tables)\n",
    "print(year_table)\n",
    "\n",
    "unique_countries = year_table['Country Name'].unique()"
   ]
  },
  {
   "cell_type": "code",
   "execution_count": 95,
   "id": "03a3f309-a44a-455c-abca-30969d1024e7",
   "metadata": {},
   "outputs": [
    {
     "name": "stdout",
     "output_type": "stream",
     "text": [
      "     Country Name        date  Confirmed  Stringent Index\n",
      "0       Argentina  2020-02-01          0            11.11\n",
      "1         Austria  2020-02-01          0             0.00\n",
      "2         Belgium  2020-02-01          0            11.11\n",
      "3           Benin  2020-02-01          0             2.78\n",
      "4          Brazil  2020-02-01          0             5.56\n",
      "...           ...         ...        ...              ...\n",
      "2270       Sweden  2022-12-01    2632091            11.11\n",
      "2271  Switzerland  2022-12-01    4337983             5.56\n",
      "2272         Togo  2022-12-01      39330            30.10\n",
      "2273      Uruguay  2022-12-01     993875            13.89\n",
      "2274       Zambia  2022-12-01     333746             2.78\n",
      "\n",
      "[2275 rows x 4 columns]\n",
      "50\n"
     ]
    }
   ],
   "source": [
    "confirmed_data_filtered = confirmed_data_filtered[confirmed_data_filtered['Country Name'].isin(unique_countries)]\n",
    "Confirmed_melted = pd.melt(confirmed_data_filtered, id_vars=['Country Name'], var_name='date', value_name='Confirmed')\n",
    "stringent_filtered = stringent_filtered[stringent_filtered['Country Name'].isin(unique_countries)]\n",
    "Stringent_melted = pd.melt(stringent_filtered, id_vars=['Country Name'], var_name='date', value_name='Stringent Index')\n",
    "\n",
    "date_table = Confirmed_melted.merge(Stringent_melted, on=['Country Name', 'date'], how='inner')\n",
    "print(date_table)\n",
    "\n",
    "unique_countries1 = date_table['Country Name'].nunique()\n",
    "print(unique_countries1)"
   ]
  },
  {
   "cell_type": "code",
   "execution_count": 104,
   "id": "92bac951-4c52-4d8d-973b-1a3c801ffc83",
   "metadata": {},
   "outputs": [
    {
     "data": {
      "text/html": [
       "<style type=\"text/css\">\n",
       "#T_2fe51 th {\n",
       "  background-color: #f2f2f2;\n",
       "  font-weight: bold;\n",
       "}\n",
       "#T_2fe51_row0_col0, #T_2fe51_row0_col1, #T_2fe51_row0_col2, #T_2fe51_row0_col3, #T_2fe51_row0_col4, #T_2fe51_row0_col5, #T_2fe51_row0_col6, #T_2fe51_row0_col7, #T_2fe51_row0_col8, #T_2fe51_row1_col0, #T_2fe51_row1_col1, #T_2fe51_row1_col2, #T_2fe51_row1_col3, #T_2fe51_row1_col4, #T_2fe51_row1_col5, #T_2fe51_row1_col6, #T_2fe51_row1_col7, #T_2fe51_row1_col8, #T_2fe51_row2_col0, #T_2fe51_row2_col1, #T_2fe51_row2_col2, #T_2fe51_row2_col3, #T_2fe51_row2_col4, #T_2fe51_row2_col5, #T_2fe51_row2_col6, #T_2fe51_row2_col7, #T_2fe51_row2_col8, #T_2fe51_row3_col0, #T_2fe51_row3_col1, #T_2fe51_row3_col2, #T_2fe51_row3_col3, #T_2fe51_row3_col4, #T_2fe51_row3_col5, #T_2fe51_row3_col6, #T_2fe51_row3_col7, #T_2fe51_row3_col8, #T_2fe51_row4_col0, #T_2fe51_row4_col1, #T_2fe51_row4_col2, #T_2fe51_row4_col3, #T_2fe51_row4_col4, #T_2fe51_row4_col5, #T_2fe51_row4_col6, #T_2fe51_row4_col7, #T_2fe51_row4_col8, #T_2fe51_row5_col0, #T_2fe51_row5_col1, #T_2fe51_row5_col2, #T_2fe51_row5_col3, #T_2fe51_row5_col4, #T_2fe51_row5_col5, #T_2fe51_row5_col6, #T_2fe51_row5_col7, #T_2fe51_row5_col8, #T_2fe51_row6_col0, #T_2fe51_row6_col1, #T_2fe51_row6_col2, #T_2fe51_row6_col3, #T_2fe51_row6_col4, #T_2fe51_row6_col5, #T_2fe51_row6_col6, #T_2fe51_row6_col7, #T_2fe51_row6_col8, #T_2fe51_row7_col0, #T_2fe51_row7_col1, #T_2fe51_row7_col2, #T_2fe51_row7_col3, #T_2fe51_row7_col4, #T_2fe51_row7_col5, #T_2fe51_row7_col6, #T_2fe51_row7_col7, #T_2fe51_row7_col8, #T_2fe51_row8_col0, #T_2fe51_row8_col1, #T_2fe51_row8_col2, #T_2fe51_row8_col3, #T_2fe51_row8_col4, #T_2fe51_row8_col5, #T_2fe51_row8_col6, #T_2fe51_row8_col7, #T_2fe51_row8_col8, #T_2fe51_row9_col0, #T_2fe51_row9_col1, #T_2fe51_row9_col2, #T_2fe51_row9_col3, #T_2fe51_row9_col4, #T_2fe51_row9_col5, #T_2fe51_row9_col6, #T_2fe51_row9_col7, #T_2fe51_row9_col8, #T_2fe51_row10_col0, #T_2fe51_row10_col1, #T_2fe51_row10_col2, #T_2fe51_row10_col3, #T_2fe51_row10_col4, #T_2fe51_row10_col5, #T_2fe51_row10_col6, #T_2fe51_row10_col7, #T_2fe51_row10_col8, #T_2fe51_row11_col0, #T_2fe51_row11_col1, #T_2fe51_row11_col2, #T_2fe51_row11_col3, #T_2fe51_row11_col4, #T_2fe51_row11_col5, #T_2fe51_row11_col6, #T_2fe51_row11_col7, #T_2fe51_row11_col8, #T_2fe51_row12_col0, #T_2fe51_row12_col1, #T_2fe51_row12_col2, #T_2fe51_row12_col3, #T_2fe51_row12_col4, #T_2fe51_row12_col5, #T_2fe51_row12_col6, #T_2fe51_row12_col7, #T_2fe51_row12_col8, #T_2fe51_row13_col0, #T_2fe51_row13_col1, #T_2fe51_row13_col2, #T_2fe51_row13_col3, #T_2fe51_row13_col4, #T_2fe51_row13_col5, #T_2fe51_row13_col6, #T_2fe51_row13_col7, #T_2fe51_row13_col8 {\n",
       "  border: 1px solid black;\n",
       "  padding: 5px;\n",
       "  text-align: center;\n",
       "}\n",
       "</style>\n",
       "<table id=\"T_2fe51\">\n",
       "  <thead>\n",
       "    <tr>\n",
       "      <th class=\"blank level0\" >&nbsp;</th>\n",
       "      <th id=\"T_2fe51_level0_col0\" class=\"col_heading level0 col0\" >Country Name</th>\n",
       "      <th id=\"T_2fe51_level0_col1\" class=\"col_heading level0 col1\" >date</th>\n",
       "      <th id=\"T_2fe51_level0_col2\" class=\"col_heading level0 col2\" >Confirmed</th>\n",
       "      <th id=\"T_2fe51_level0_col3\" class=\"col_heading level0 col3\" >Stringent Index</th>\n",
       "      <th id=\"T_2fe51_level0_col4\" class=\"col_heading level0 col4\" >Average Monthly wage</th>\n",
       "      <th id=\"T_2fe51_level0_col5\" class=\"col_heading level0 col5\" >Inefficient Employment</th>\n",
       "      <th id=\"T_2fe51_level0_col6\" class=\"col_heading level0 col6\" >Unemployment Rate</th>\n",
       "      <th id=\"T_2fe51_level0_col7\" class=\"col_heading level0 col7\" >Gini Index</th>\n",
       "      <th id=\"T_2fe51_level0_col8\" class=\"col_heading level0 col8\" >Population</th>\n",
       "    </tr>\n",
       "  </thead>\n",
       "  <tbody>\n",
       "    <tr>\n",
       "      <th id=\"T_2fe51_level0_row0\" class=\"row_heading level0 row0\" >0</th>\n",
       "      <td id=\"T_2fe51_row0_col0\" class=\"data row0 col0\" >Argentina</td>\n",
       "      <td id=\"T_2fe51_row0_col1\" class=\"data row0 col1\" >2020-02-01</td>\n",
       "      <td id=\"T_2fe51_row0_col2\" class=\"data row0 col2\" >0</td>\n",
       "      <td id=\"T_2fe51_row0_col3\" class=\"data row0 col3\" >11.110000</td>\n",
       "      <td id=\"T_2fe51_row0_col4\" class=\"data row0 col4\" >514.353000</td>\n",
       "      <td id=\"T_2fe51_row0_col5\" class=\"data row0 col5\" >46.981000</td>\n",
       "      <td id=\"T_2fe51_row0_col6\" class=\"data row0 col6\" >11.461000</td>\n",
       "      <td id=\"T_2fe51_row0_col7\" class=\"data row0 col7\" >42.700000</td>\n",
       "      <td id=\"T_2fe51_row0_col8\" class=\"data row0 col8\" >45191965.000000</td>\n",
       "    </tr>\n",
       "    <tr>\n",
       "      <th id=\"T_2fe51_level0_row1\" class=\"row_heading level0 row1\" >1</th>\n",
       "      <td id=\"T_2fe51_row1_col0\" class=\"data row1 col0\" >Austria</td>\n",
       "      <td id=\"T_2fe51_row1_col1\" class=\"data row1 col1\" >2020-02-01</td>\n",
       "      <td id=\"T_2fe51_row1_col2\" class=\"data row1 col2\" >0</td>\n",
       "      <td id=\"T_2fe51_row1_col3\" class=\"data row1 col3\" >0.000000</td>\n",
       "      <td id=\"T_2fe51_row1_col4\" class=\"data row1 col4\" >4753.406000</td>\n",
       "      <td id=\"T_2fe51_row1_col5\" class=\"data row1 col5\" >1.978000</td>\n",
       "      <td id=\"T_2fe51_row1_col6\" class=\"data row1 col6\" >5.201000</td>\n",
       "      <td id=\"T_2fe51_row1_col7\" class=\"data row1 col7\" >29.800000</td>\n",
       "      <td id=\"T_2fe51_row1_col8\" class=\"data row1 col8\" >8916864.000000</td>\n",
       "    </tr>\n",
       "    <tr>\n",
       "      <th id=\"T_2fe51_level0_row2\" class=\"row_heading level0 row2\" >2</th>\n",
       "      <td id=\"T_2fe51_row2_col0\" class=\"data row2 col0\" >Belgium</td>\n",
       "      <td id=\"T_2fe51_row2_col1\" class=\"data row2 col1\" >2020-02-01</td>\n",
       "      <td id=\"T_2fe51_row2_col2\" class=\"data row2 col2\" >0</td>\n",
       "      <td id=\"T_2fe51_row2_col3\" class=\"data row2 col3\" >11.110000</td>\n",
       "      <td id=\"T_2fe51_row2_col4\" class=\"data row2 col4\" >5760.266000</td>\n",
       "      <td id=\"T_2fe51_row2_col5\" class=\"data row2 col5\" >1.262000</td>\n",
       "      <td id=\"T_2fe51_row2_col6\" class=\"data row2 col6\" >5.545000</td>\n",
       "      <td id=\"T_2fe51_row2_col7\" class=\"data row2 col7\" >26.000000</td>\n",
       "      <td id=\"T_2fe51_row2_col8\" class=\"data row2 col8\" >11538604.000000</td>\n",
       "    </tr>\n",
       "    <tr>\n",
       "      <th id=\"T_2fe51_level0_row3\" class=\"row_heading level0 row3\" >3</th>\n",
       "      <td id=\"T_2fe51_row3_col0\" class=\"data row3 col0\" >Benin</td>\n",
       "      <td id=\"T_2fe51_row3_col1\" class=\"data row3 col1\" >2020-02-01</td>\n",
       "      <td id=\"T_2fe51_row3_col2\" class=\"data row3 col2\" >0</td>\n",
       "      <td id=\"T_2fe51_row3_col3\" class=\"data row3 col3\" >2.780000</td>\n",
       "      <td id=\"T_2fe51_row3_col4\" class=\"data row3 col4\" >135.693000</td>\n",
       "      <td id=\"T_2fe51_row3_col5\" class=\"data row3 col5\" >96.347000</td>\n",
       "      <td id=\"T_2fe51_row3_col6\" class=\"data row3 col6\" >1.685000</td>\n",
       "      <td id=\"T_2fe51_row3_col7\" class=\"data row3 col7\" >34.400000</td>\n",
       "      <td id=\"T_2fe51_row3_col8\" class=\"data row3 col8\" >13070169.000000</td>\n",
       "    </tr>\n",
       "    <tr>\n",
       "      <th id=\"T_2fe51_level0_row4\" class=\"row_heading level0 row4\" >4</th>\n",
       "      <td id=\"T_2fe51_row4_col0\" class=\"data row4 col0\" >Brazil</td>\n",
       "      <td id=\"T_2fe51_row4_col1\" class=\"data row4 col1\" >2020-02-01</td>\n",
       "      <td id=\"T_2fe51_row4_col2\" class=\"data row4 col2\" >0</td>\n",
       "      <td id=\"T_2fe51_row4_col3\" class=\"data row4 col3\" >5.560000</td>\n",
       "      <td id=\"T_2fe51_row4_col4\" class=\"data row4 col4\" >477.027000</td>\n",
       "      <td id=\"T_2fe51_row4_col5\" class=\"data row4 col5\" >36.730000</td>\n",
       "      <td id=\"T_2fe51_row4_col6\" class=\"data row4 col6\" >13.697000</td>\n",
       "      <td id=\"T_2fe51_row4_col7\" class=\"data row4 col7\" >48.900000</td>\n",
       "      <td id=\"T_2fe51_row4_col8\" class=\"data row4 col8\" >208660842.000000</td>\n",
       "    </tr>\n",
       "    <tr>\n",
       "      <th id=\"T_2fe51_level0_row5\" class=\"row_heading level0 row5\" >5</th>\n",
       "      <td id=\"T_2fe51_row5_col0\" class=\"data row5 col0\" >Bulgaria</td>\n",
       "      <td id=\"T_2fe51_row5_col1\" class=\"data row5 col1\" >2020-02-01</td>\n",
       "      <td id=\"T_2fe51_row5_col2\" class=\"data row5 col2\" >0</td>\n",
       "      <td id=\"T_2fe51_row5_col3\" class=\"data row5 col3\" >0.000000</td>\n",
       "      <td id=\"T_2fe51_row5_col4\" class=\"data row5 col4\" >855.426000</td>\n",
       "      <td id=\"T_2fe51_row5_col5\" class=\"data row5 col5\" >2.726000</td>\n",
       "      <td id=\"T_2fe51_row5_col6\" class=\"data row5 col6\" >5.125000</td>\n",
       "      <td id=\"T_2fe51_row5_col7\" class=\"data row5 col7\" >40.500000</td>\n",
       "      <td id=\"T_2fe51_row5_col8\" class=\"data row5 col8\" >6934015.000000</td>\n",
       "    </tr>\n",
       "    <tr>\n",
       "      <th id=\"T_2fe51_level0_row6\" class=\"row_heading level0 row6\" >6</th>\n",
       "      <td id=\"T_2fe51_row6_col0\" class=\"data row6 col0\" >Burkina Faso</td>\n",
       "      <td id=\"T_2fe51_row6_col1\" class=\"data row6 col1\" >2020-02-01</td>\n",
       "      <td id=\"T_2fe51_row6_col2\" class=\"data row6 col2\" >0</td>\n",
       "      <td id=\"T_2fe51_row6_col3\" class=\"data row6 col3\" >0.000000</td>\n",
       "      <td id=\"T_2fe51_row6_col4\" class=\"data row6 col4\" >134.681000</td>\n",
       "      <td id=\"T_2fe51_row6_col5\" class=\"data row6 col5\" >95.964000</td>\n",
       "      <td id=\"T_2fe51_row6_col6\" class=\"data row6 col6\" >1.927000</td>\n",
       "      <td id=\"T_2fe51_row6_col7\" class=\"data row6 col7\" >37.400000</td>\n",
       "      <td id=\"T_2fe51_row6_col8\" class=\"data row6 col8\" >21478690.000000</td>\n",
       "    </tr>\n",
       "    <tr>\n",
       "      <th id=\"T_2fe51_level0_row7\" class=\"row_heading level0 row7\" >7</th>\n",
       "      <td id=\"T_2fe51_row7_col0\" class=\"data row7 col0\" >...</td>\n",
       "      <td id=\"T_2fe51_row7_col1\" class=\"data row7 col1\" >...</td>\n",
       "      <td id=\"T_2fe51_row7_col2\" class=\"data row7 col2\" >...</td>\n",
       "      <td id=\"T_2fe51_row7_col3\" class=\"data row7 col3\" >...</td>\n",
       "      <td id=\"T_2fe51_row7_col4\" class=\"data row7 col4\" >...</td>\n",
       "      <td id=\"T_2fe51_row7_col5\" class=\"data row7 col5\" >...</td>\n",
       "      <td id=\"T_2fe51_row7_col6\" class=\"data row7 col6\" >...</td>\n",
       "      <td id=\"T_2fe51_row7_col7\" class=\"data row7 col7\" >...</td>\n",
       "      <td id=\"T_2fe51_row7_col8\" class=\"data row7 col8\" >...</td>\n",
       "    </tr>\n",
       "    <tr>\n",
       "      <th id=\"T_2fe51_level0_row8\" class=\"row_heading level0 row8\" >8</th>\n",
       "      <td id=\"T_2fe51_row8_col0\" class=\"data row8 col0\" >Spain</td>\n",
       "      <td id=\"T_2fe51_row8_col1\" class=\"data row8 col1\" >2022-12-01</td>\n",
       "      <td id=\"T_2fe51_row8_col2\" class=\"data row8 col2\" >13595504</td>\n",
       "      <td id=\"T_2fe51_row8_col3\" class=\"data row8 col3\" >11.110000</td>\n",
       "      <td id=\"T_2fe51_row8_col4\" class=\"data row8 col4\" >2852.492000</td>\n",
       "      <td id=\"T_2fe51_row8_col5\" class=\"data row8 col5\" >2.612000</td>\n",
       "      <td id=\"T_2fe51_row8_col6\" class=\"data row8 col6\" >12.917000</td>\n",
       "      <td id=\"T_2fe51_row8_col7\" class=\"data row8 col7\" >33.900000</td>\n",
       "      <td id=\"T_2fe51_row8_col8\" class=\"data row8 col8\" >47759127.000000</td>\n",
       "    </tr>\n",
       "    <tr>\n",
       "      <th id=\"T_2fe51_level0_row9\" class=\"row_heading level0 row9\" >9</th>\n",
       "      <td id=\"T_2fe51_row9_col0\" class=\"data row9 col0\" >Sweden</td>\n",
       "      <td id=\"T_2fe51_row9_col1\" class=\"data row9 col1\" >2022-12-01</td>\n",
       "      <td id=\"T_2fe51_row9_col2\" class=\"data row9 col2\" >2632091</td>\n",
       "      <td id=\"T_2fe51_row9_col3\" class=\"data row9 col3\" >11.110000</td>\n",
       "      <td id=\"T_2fe51_row9_col4\" class=\"data row9 col4\" >4475.317000</td>\n",
       "      <td id=\"T_2fe51_row9_col5\" class=\"data row9 col5\" >3.266000</td>\n",
       "      <td id=\"T_2fe51_row9_col6\" class=\"data row9 col6\" >7.392000</td>\n",
       "      <td id=\"T_2fe51_row9_col7\" class=\"data row9 col7\" >29.800000</td>\n",
       "      <td id=\"T_2fe51_row9_col8\" class=\"data row9 col8\" >10486941.000000</td>\n",
       "    </tr>\n",
       "    <tr>\n",
       "      <th id=\"T_2fe51_level0_row10\" class=\"row_heading level0 row10\" >10</th>\n",
       "      <td id=\"T_2fe51_row10_col0\" class=\"data row10 col0\" >Switzerland</td>\n",
       "      <td id=\"T_2fe51_row10_col1\" class=\"data row10 col1\" >2022-12-01</td>\n",
       "      <td id=\"T_2fe51_row10_col2\" class=\"data row10 col2\" >4337983</td>\n",
       "      <td id=\"T_2fe51_row10_col3\" class=\"data row10 col3\" >5.560000</td>\n",
       "      <td id=\"T_2fe51_row10_col4\" class=\"data row10 col4\" >6463.190000</td>\n",
       "      <td id=\"T_2fe51_row10_col5\" class=\"data row10 col5\" >0.883000</td>\n",
       "      <td id=\"T_2fe51_row10_col6\" class=\"data row10 col6\" >4.122000</td>\n",
       "      <td id=\"T_2fe51_row10_col7\" class=\"data row10 col7\" >33.700000</td>\n",
       "      <td id=\"T_2fe51_row10_col8\" class=\"data row10 col8\" >8777088.000000</td>\n",
       "    </tr>\n",
       "    <tr>\n",
       "      <th id=\"T_2fe51_level0_row11\" class=\"row_heading level0 row11\" >11</th>\n",
       "      <td id=\"T_2fe51_row11_col0\" class=\"data row11 col0\" >Togo</td>\n",
       "      <td id=\"T_2fe51_row11_col1\" class=\"data row11 col1\" >2022-12-01</td>\n",
       "      <td id=\"T_2fe51_row11_col2\" class=\"data row11 col2\" >39330</td>\n",
       "      <td id=\"T_2fe51_row11_col3\" class=\"data row11 col3\" >30.100000</td>\n",
       "      <td id=\"T_2fe51_row11_col4\" class=\"data row11 col4\" >137.662000</td>\n",
       "      <td id=\"T_2fe51_row11_col5\" class=\"data row11 col5\" >92.343000</td>\n",
       "      <td id=\"T_2fe51_row11_col6\" class=\"data row11 col6\" >1.965000</td>\n",
       "      <td id=\"T_2fe51_row11_col7\" class=\"data row11 col7\" >37.900000</td>\n",
       "      <td id=\"T_2fe51_row11_col8\" class=\"data row11 col8\" >9089738.000000</td>\n",
       "    </tr>\n",
       "    <tr>\n",
       "      <th id=\"T_2fe51_level0_row12\" class=\"row_heading level0 row12\" >12</th>\n",
       "      <td id=\"T_2fe51_row12_col0\" class=\"data row12 col0\" >Uruguay</td>\n",
       "      <td id=\"T_2fe51_row12_col1\" class=\"data row12 col1\" >2022-12-01</td>\n",
       "      <td id=\"T_2fe51_row12_col2\" class=\"data row12 col2\" >993875</td>\n",
       "      <td id=\"T_2fe51_row12_col3\" class=\"data row12 col3\" >13.890000</td>\n",
       "      <td id=\"T_2fe51_row12_col4\" class=\"data row12 col4\" >879.980000</td>\n",
       "      <td id=\"T_2fe51_row12_col5\" class=\"data row12 col5\" >22.137000</td>\n",
       "      <td id=\"T_2fe51_row12_col6\" class=\"data row12 col6\" >7.877000</td>\n",
       "      <td id=\"T_2fe51_row12_col7\" class=\"data row12 col7\" >40.600000</td>\n",
       "      <td id=\"T_2fe51_row12_col8\" class=\"data row12 col8\" >3390913.000000</td>\n",
       "    </tr>\n",
       "    <tr>\n",
       "      <th id=\"T_2fe51_level0_row13\" class=\"row_heading level0 row13\" >13</th>\n",
       "      <td id=\"T_2fe51_row13_col0\" class=\"data row13 col0\" >Zambia</td>\n",
       "      <td id=\"T_2fe51_row13_col1\" class=\"data row13 col1\" >2022-12-01</td>\n",
       "      <td id=\"T_2fe51_row13_col2\" class=\"data row13 col2\" >333746</td>\n",
       "      <td id=\"T_2fe51_row13_col3\" class=\"data row13 col3\" >2.780000</td>\n",
       "      <td id=\"T_2fe51_row13_col4\" class=\"data row13 col4\" >203.415000</td>\n",
       "      <td id=\"T_2fe51_row13_col5\" class=\"data row13 col5\" >85.560000</td>\n",
       "      <td id=\"T_2fe51_row13_col6\" class=\"data row13 col6\" >5.993000</td>\n",
       "      <td id=\"T_2fe51_row13_col7\" class=\"data row13 col7\" >51.500000</td>\n",
       "      <td id=\"T_2fe51_row13_col8\" class=\"data row13 col8\" >20152938.000000</td>\n",
       "    </tr>\n",
       "  </tbody>\n",
       "</table>\n"
      ],
      "text/plain": [
       "<pandas.io.formats.style.Styler at 0x21d0e588200>"
      ]
     },
     "metadata": {},
     "output_type": "display_data"
    }
   ],
   "source": [
    "date_table['year'] = pd.to_datetime(date_table['date']).dt.year\n",
    "date_table['year'] = date_table['year'].astype(int)\n",
    "year_table['year'] = year_table['year'].astype(int)\n",
    "merged_data = date_table.merge(year_table, on=['Country Name', 'year'], how='inner')\n",
    "merged_data.drop(columns=['year'], inplace=True)\n",
    "\n",
    "ellipsis_row = pd.DataFrame([[\"...\"] * merged_data.shape[1]], columns=merged_data.columns)\n",
    "subset_data = pd.concat([merged_data.head(7), ellipsis_row, merged_data.tail(6)], ignore_index=True)\n",
    "styled_table = subset_data.style.set_properties(**{\n",
    "    'border': '1px solid black',\n",
    "    'padding': '5px',\n",
    "    'text-align': 'center'\n",
    "}).set_table_styles([\n",
    "    {'selector': 'th', 'props': [('background-color', '#f2f2f2'), ('font-weight', 'bold')]}\n",
    "])\n",
    "\n",
    "display(styled_table)"
   ]
  }
 ],
 "metadata": {
  "kernelspec": {
   "display_name": "Python 3 (ipykernel)",
   "language": "python",
   "name": "python3"
  },
  "language_info": {
   "codemirror_mode": {
    "name": "ipython",
    "version": 3
   },
   "file_extension": ".py",
   "mimetype": "text/x-python",
   "name": "python",
   "nbconvert_exporter": "python",
   "pygments_lexer": "ipython3",
   "version": "3.12.7"
  }
 },
 "nbformat": 4,
 "nbformat_minor": 5
}
