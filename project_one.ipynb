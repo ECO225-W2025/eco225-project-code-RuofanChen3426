{
 "cells": [
  {
   "cell_type": "code",
   "execution_count": 4,
   "id": "c04c2f0f-a62d-4d9b-ba4e-b680769c2b7f",
   "metadata": {},
   "outputs": [
    {
     "name": "stdout",
     "output_type": "stream",
     "text": [
      "       FIPS   Admin2 Province_State Country_Region    Last_Update        Lat  \\\n",
      "648  1001.0  Autauga        Alabama             US  1/2/2021 5:22  32.539527   \n",
      "649  1003.0  Baldwin        Alabama             US  1/2/2021 5:22  30.727750   \n",
      "650  1005.0  Barbour        Alabama             US  1/2/2021 5:22  31.868263   \n",
      "651  1007.0     Bibb        Alabama             US  1/2/2021 5:22  32.996421   \n",
      "652  1009.0   Blount        Alabama             US  1/2/2021 5:22  33.982109   \n",
      "\n",
      "         Long_  Confirmed  Deaths  Recovered  Active          Combined_Key  \\\n",
      "648 -86.644082       4239      50          0    4189  Autauga, Alabama, US   \n",
      "649 -87.722071      13823     169          0   13654  Baldwin, Alabama, US   \n",
      "650 -85.387129       1517      33          0    1484  Barbour, Alabama, US   \n",
      "651 -87.125115       1854      46          0    1808     Bibb, Alabama, US   \n",
      "652 -86.567906       4693      63          0    4630   Blount, Alabama, US   \n",
      "\n",
      "     Incident_Rate  Case_Fatality_Ratio  \n",
      "648    7587.391935             1.179523  \n",
      "649    6192.157109             1.222600  \n",
      "650    6145.183505             2.175346  \n",
      "651    8279.003304             2.481122  \n",
      "652    8115.726490             1.342425  \n"
     ]
    }
   ],
   "source": [
    "import pandas as pd\n",
    "file_path = r\"C:\\Users\\chenr\\OneDrive\\ECO225Project\\COVID-19-master\\csse_covid_19_data\\csse_covid_19_daily_reports\\01-01-2021.csv\"\n",
    "data = pd.read_csv(file_path)\n",
    "data_cleaned = data.dropna()\n",
    "print(data_cleaned.head())\n"
   ]
  }
 ],
 "metadata": {
  "kernelspec": {
   "display_name": "Python 3 (ipykernel)",
   "language": "python",
   "name": "python3"
  },
  "language_info": {
   "codemirror_mode": {
    "name": "ipython",
    "version": 3
   },
   "file_extension": ".py",
   "mimetype": "text/x-python",
   "name": "python",
   "nbconvert_exporter": "python",
   "pygments_lexer": "ipython3",
   "version": "3.12.7"
  }
 },
 "nbformat": 4,
 "nbformat_minor": 5
}
