{
 "cells": [
  {
   "cell_type": "markdown",
   "id": "6835239d-67ee-47a1-9588-1fbe4789ab5d",
   "metadata": {},
   "source": [
    "<center> <h1> <b> Investigating the Impact of Income-Related Factors on COVID-19 Outcomes Across Countries and the Moderating Effect of Employment Vulnerability on This Relationship </b> </h1> </center>"
   ]
  },
  {
   "cell_type": "markdown",
   "id": "324acd79-a85e-4eb6-9221-4ce82ff10b75",
   "metadata": {},
   "source": [
    "<h2> Introduction </h2>"
   ]
  },
  {
   "cell_type": "code",
   "execution_count": null,
   "id": "27cfea01-f650-47ab-8ec3-ac283b7d427c",
   "metadata": {},
   "outputs": [],
   "source": []
  },
  {
   "cell_type": "code",
   "execution_count": 1,
   "id": "7e88c178-0565-486f-ae67-4f48ebaf61fa",
   "metadata": {},
   "outputs": [
    {
     "name": "stdout",
     "output_type": "stream",
     "text": [
      "           Country/Region  2020-02-01  2020-03-01  2020-04-01  2020-05-01  \\\n",
      "0             Afghanistan           0           5         192        2171   \n",
      "1                 Albania           0           0         259         782   \n",
      "2                 Algeria           0           1         847        4154   \n",
      "3                 Andorra           0           0         390         745   \n",
      "4                  Angola           0           0           8          30   \n",
      "..                    ...         ...         ...         ...         ...   \n",
      "284    West Bank and Gaza           0           0         134         353   \n",
      "285  Winter Olympics 2022           0           0           0           0   \n",
      "286                 Yemen           0           0           0           7   \n",
      "287                Zambia           0           0          36         109   \n",
      "288              Zimbabwe           0           0           8          40   \n",
      "\n",
      "     2020-06-01  2020-07-01  2020-08-01  2020-09-01  2020-10-01  ...  \\\n",
      "0         15836       31848       36796       38282       39371  ...   \n",
      "1          1143        2580        5396        9606       13806  ...   \n",
      "2          9513       14272       30950       44833       51690  ...   \n",
      "3           765         855         925        1184        2050  ...   \n",
      "4            86         291        1164        2729        5114  ...   \n",
      "..          ...         ...         ...         ...         ...  ...   \n",
      "284         449        2758       12160       23281       40322  ...   \n",
      "285           0           0           0           0           0  ...   \n",
      "286         354        1190        1730        1962        2039  ...   \n",
      "287        1089        1632        6228       12381       14802  ...   \n",
      "288         203         605        3659        6559        7850  ...   \n",
      "\n",
      "     2022-03-01  2022-04-01  2022-05-01  2022-06-01  2022-07-01  2022-08-01  \\\n",
      "0        173879      177782      178899      180419      182594      185930   \n",
      "1        271702      273759      275167      276221      281470      312375   \n",
      "2        265010      265679      265782      265887      266105      267546   \n",
      "3         38165       40024       41349       42894       44177       45508   \n",
      "4         98746       99194       99287       99761      101320      102301   \n",
      "..          ...         ...         ...         ...         ...         ...   \n",
      "284      647203      655750      657060      657705      659853      682096   \n",
      "285         524         535         535         535         535         535   \n",
      "286       11771       11806       11818       11822       11824       11877   \n",
      "287      312970      316941      319733      321915      325857      329483   \n",
      "288      236871      246414      247911      252874      255586      256382   \n",
      "\n",
      "     2022-09-01  2022-10-01  2022-11-01  2022-12-01  \n",
      "0        193520      199310      203167      206073  \n",
      "1        329615      332263      332969      333360  \n",
      "2        270359      270676      270839      271096  \n",
      "3         46027       46227       46535       47219  \n",
      "4        102636      103131      103131      104676  \n",
      "..          ...         ...         ...         ...  \n",
      "284      702332      702768      703036      703036  \n",
      "285         535         535         535         535  \n",
      "286       11926       11935       11939       11945  \n",
      "287      332822      333549      333681      333746  \n",
      "288      256738      257465      257893      259164  \n",
      "\n",
      "[289 rows x 36 columns]\n"
     ]
    }
   ],
   "source": [
    "#Load the first dataset, including countries and their accumulated COVID-19 confirmed case\n",
    "import pandas as pd\n",
    "file_path = r\"C:\\Users\\chenr\\OneDrive\\ECO225Project\\Data\\variables\\time_series_covid19_confirmed_global.csv\"\n",
    "confirmed_data = pd.read_csv(file_path)\n",
    "confirmed_data = confirmed_data.drop(columns=['Province/State', 'Long', 'Lat'], errors='ignore')\n",
    "confirmed_data.columns = [col if col == \"Country/Region\" else pd.to_datetime(col, errors='coerce').date() for col in confirmed_data.columns]\n",
    "date_columns = confirmed_data.columns[1:]  \n",
    "first_of_each_month = [col for col in date_columns if col.day == 1]\n",
    "last_date = pd.to_datetime(\"12/1/2022\").date()\n",
    "first_of_each_month = [col for col in first_of_each_month if col <= last_date]\n",
    "if last_date not in first_of_each_month:\n",
    "    first_of_each_month.append(last_date)\n",
    "columns_to_keep = [\"Country/Region\"] + first_of_each_month\n",
    "df_filtered = confirmed_data[columns_to_keep]\n",
    "print(df_filtered)"
   ]
  },
  {
   "cell_type": "code",
   "execution_count": 2,
   "id": "d4abf68c-53af-4bf1-b50d-4ab935fa0596",
   "metadata": {},
   "outputs": [
    {
     "name": "stdout",
     "output_type": "stream",
     "text": [
      "    ref_area.label  time  obs_value\n",
      "0      Afghanistan  2021     86.395\n",
      "1           Angola  2022     92.189\n",
      "2           Angola  2021     90.254\n",
      "3           Angola  2019     88.195\n",
      "4        Argentina  2022     51.196\n",
      "..             ...   ...        ...\n",
      "306         Zambia  2020     84.763\n",
      "307         Zambia  2019     84.534\n",
      "308       Zimbabwe  2022     88.306\n",
      "309       Zimbabwe  2021     88.439\n",
      "310       Zimbabwe  2019     88.243\n",
      "\n",
      "[311 rows x 3 columns]\n"
     ]
    }
   ],
   "source": [
    "#Load the 2nd dataset, including \n",
    "file_path = r\"C:\\Users\\chenr\\OneDrive\\ECO225Project\\Data\\variables\\SDG_0831_SEX_ECO_RT_A-20250201T1718.csv\"\n",
    "Inefficient_Employment = pd.read_csv(file_path)\n",
    "columns_to_keep = ['ref_area.label', 'time', 'obs_value'] \n",
    "Inefficient_Employment = Inefficient_Employment[columns_to_keep]\n",
    "print(Inefficient_Employment)"
   ]
  },
  {
   "cell_type": "code",
   "execution_count": null,
   "id": "05a47b81-d315-47b4-b1e8-095b97cd9d27",
   "metadata": {},
   "outputs": [],
   "source": [
    "#Load the 3rd dataset,"
   ]
  },
  {
   "cell_type": "code",
   "execution_count": null,
   "id": "162ce051-a6d9-4988-9b42-5d770b111751",
   "metadata": {},
   "outputs": [],
   "source": []
  }
 ],
 "metadata": {
  "kernelspec": {
   "display_name": "Python 3 (ipykernel)",
   "language": "python",
   "name": "python3"
  },
  "language_info": {
   "codemirror_mode": {
    "name": "ipython",
    "version": 3
   },
   "file_extension": ".py",
   "mimetype": "text/x-python",
   "name": "python",
   "nbconvert_exporter": "python",
   "pygments_lexer": "ipython3",
   "version": "3.12.7"
  }
 },
 "nbformat": 4,
 "nbformat_minor": 5
}
